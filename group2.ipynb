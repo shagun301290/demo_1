{
 "cells": [
  {
   "cell_type": "code",
   "execution_count": null,
   "id": "702a7859",
   "metadata": {},
   "outputs": [],
   "source": []
  },
  {
   "cell_type": "markdown",
   "id": "a48dc9fc",
   "metadata": {},
   "source": [
    "#### A-Load the 2020_E0.csv file in your notebook, and print the data set."
   ]
  },
  {
   "cell_type": "code",
   "execution_count": null,
   "id": "a1b1af1e",
   "metadata": {},
   "outputs": [],
   "source": []
  },
  {
   "cell_type": "markdown",
   "id": "661bd8ab",
   "metadata": {},
   "source": [
    "#### B-Write a function calcScore() that takes one row as an input, and it returns two variables: numbers of points for the Home team and the Away team. You will use the scores from columns FTHG and FTAG. The rules of point calculations is the following: If two teams score the same number of goals by the end of the game, each receives 1 point. Otherwise, the team that scores more goals, receives 3 points, while the losing team receives 0 points. Test your function on row 0."
   ]
  },
  {
   "cell_type": "code",
   "execution_count": null,
   "id": "22731466",
   "metadata": {},
   "outputs": [],
   "source": []
  },
  {
   "cell_type": "markdown",
   "id": "4116069b",
   "metadata": {},
   "source": [
    "#### C-Using the function you wrote, and using the method apply(), create two columns HP and AP that contain the number of points awarded for Home and Away teams respectively.\n",
    "\n",
    "[Hint: check zip and lambda]"
   ]
  },
  {
   "cell_type": "code",
   "execution_count": null,
   "id": "05709832",
   "metadata": {},
   "outputs": [],
   "source": []
  },
  {
   "cell_type": "markdown",
   "id": "c41c1fa7",
   "metadata": {},
   "source": [
    "#### D-Using the column HomeTeam, create a list of all 20 teams in the Premier League for 2019-2020."
   ]
  },
  {
   "cell_type": "code",
   "execution_count": null,
   "id": "73553945",
   "metadata": {},
   "outputs": [],
   "source": []
  },
  {
   "cell_type": "markdown",
   "id": "75971894",
   "metadata": {},
   "source": [
    "#### E. Write a function TeamPoints(), that takes as an input: a data frame, team name (string), and whether the team is Home or Away (string or boolean). The function should use the two columns you created in C, and it should return the total number of points earned by this team for all Home games, or all Away games. Test your function using Liverpool, and validate your results by checking here:\n",
    "print(TeamPoints(df,'Liverpool','home'))\n",
    "\n",
    "print(TeamPoints(df,'Liverpool','away'))"
   ]
  },
  {
   "cell_type": "code",
   "execution_count": null,
   "id": "11f4a8f7",
   "metadata": {},
   "outputs": [],
   "source": []
  },
  {
   "cell_type": "markdown",
   "id": "bf90ba7c",
   "metadata": {},
   "source": [
    "#### F-Write a function TeamsPointsDict(), that takes as an input: a data frame and a list of teams. The function should return a dictionary that has (key: value) pairs as (team_name: num_points), where team_name is each of the 20 PL teams, and num_points is the total number of points collected. Use your function on the list you created in D."
   ]
  },
  {
   "cell_type": "code",
   "execution_count": null,
   "id": "efd3b687",
   "metadata": {},
   "outputs": [],
   "source": []
  },
  {
   "cell_type": "markdown",
   "id": "ea0ac3be",
   "metadata": {},
   "source": [
    "#### G-Create a data frame from the dictionary you produced in F.\n"
   ]
  },
  {
   "cell_type": "code",
   "execution_count": null,
   "id": "dd051816",
   "metadata": {},
   "outputs": [],
   "source": []
  },
  {
   "cell_type": "markdown",
   "id": "3aa3c0f3",
   "metadata": {},
   "source": [
    "#### H-Order rows based on collected points (in a descending order), and print the data frame. Validate your results by checking¶"
   ]
  },
  {
   "cell_type": "code",
   "execution_count": null,
   "id": "ef96afc8",
   "metadata": {},
   "outputs": [],
   "source": []
  },
  {
   "cell_type": "markdown",
   "id": "c1cfa2f8",
   "metadata": {},
   "source": [
    "#### I-Using steps B-H, write a function GetTable() that takes as an input a data frame, and it returns a new data frame containing the final table of ranked teams and their collected points."
   ]
  },
  {
   "cell_type": "code",
   "execution_count": null,
   "id": "032f7484",
   "metadata": {},
   "outputs": [],
   "source": []
  },
  {
   "cell_type": "markdown",
   "id": "d2be5672",
   "metadata": {},
   "source": [
    "#### J-Let’s try to see whether Manchester United has played a role in influencing the current ranking table. Create a new data frame in which rows that have ‘Man United’ as the Home team or as the Away team are all filtered out."
   ]
  },
  {
   "cell_type": "code",
   "execution_count": null,
   "id": "3a436364",
   "metadata": {},
   "outputs": [],
   "source": []
  },
  {
   "cell_type": "markdown",
   "id": "98bc8fff",
   "metadata": {},
   "source": [
    "#### K-Use the function you wrote in I to calculate the new table. Compare the table you got in H with this one. Aside from ‘Man United’ disappearing from the second table, what are some differences."
   ]
  },
  {
   "cell_type": "code",
   "execution_count": null,
   "id": "7aed0743",
   "metadata": {},
   "outputs": [],
   "source": []
  },
  {
   "cell_type": "markdown",
   "id": "66e7a3e4",
   "metadata": {},
   "source": [
    "#### Use the data set to perform compelling extra analysis. You will get marks if you create a compelling and interesting visualisation and/or analysis. One plot (or one piece of analysis) is enough, but you can do more if they are all tied into one main idea. Please provide 1-2 sentences to explain your interesting analysis. Write it in a separate cell inside Jupyter (using Markdown)."
   ]
  },
  {
   "cell_type": "code",
   "execution_count": null,
   "id": "b2721aaf",
   "metadata": {},
   "outputs": [],
   "source": []
  }
 ],
 "metadata": {
  "kernelspec": {
   "display_name": "Python 3 (ipykernel)",
   "language": "python",
   "name": "python3"
  },
  "language_info": {
   "codemirror_mode": {
    "name": "ipython",
    "version": 3
   },
   "file_extension": ".py",
   "mimetype": "text/x-python",
   "name": "python",
   "nbconvert_exporter": "python",
   "pygments_lexer": "ipython3",
   "version": "3.9.7"
  }
 },
 "nbformat": 4,
 "nbformat_minor": 5
}
